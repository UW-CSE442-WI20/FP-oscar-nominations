{
 "cells": [
  {
   "cell_type": "markdown",
   "metadata": {},
   "source": [
    "# Title"
   ]
  },
  {
   "cell_type": "markdown",
   "metadata": {},
   "source": [
    "## Importing Packages"
   ]
  },
  {
   "cell_type": "code",
   "execution_count": 93,
   "metadata": {},
   "outputs": [],
   "source": [
    "import pandas as pd\n",
    "import pathlib as path\n",
    "import json"
   ]
  },
  {
   "cell_type": "markdown",
   "metadata": {},
   "source": [
    "## Importing File"
   ]
  },
  {
   "cell_type": "code",
   "execution_count": 94,
   "metadata": {},
   "outputs": [],
   "source": [
    "rel_path = path.Path().absolute()\n",
    "with open(str(rel_path) + r\"\\oscar_acting_nominess_and_winner\\all_acting_nomiees.json\") as file:\n",
    "    acting_data = json.load(file)"
   ]
  },
  {
   "cell_type": "markdown",
   "metadata": {},
   "source": [
    "## Creating dataframes"
   ]
  },
  {
   "cell_type": "code",
   "execution_count": 95,
   "metadata": {},
   "outputs": [],
   "source": [
    "acting_columns = ['Name', 'Movie', 'Edition', 'Year of award', 'Award', 'Win?']\n",
    "acting_df = pd.DataFrame(columns = acting_columns)"
   ]
  },
  {
   "cell_type": "markdown",
   "metadata": {},
   "source": [
    "## Filling dataframe"
   ]
  },
  {
   "cell_type": "code",
   "execution_count": 96,
   "metadata": {
    "scrolled": true
   },
   "outputs": [],
   "source": [
    "for version in acting_data:\n",
    "    version_dict = acting_data[version]\n",
    "    year = 0\n",
    "    for key in version_dict.keys():\n",
    "        award = ''\n",
    "        if key == 'year':\n",
    "            year = version_dict[key]\n",
    "        else:\n",
    "            award = key\n",
    "            award_d = version_dict[key]\n",
    "            for name in award_d:\n",
    "                n_d = award_d[name]\n",
    "                win = False\n",
    "                for field in n_d:\n",
    "                    if field == 'isWinner':\n",
    "                        win = n_d[field]\n",
    "                    else:\n",
    "                        for movie in n_d[field]:\n",
    "                            acting_df = acting_df.append(\n",
    "                                {'Name' : name,\n",
    "                                 'Movie' : movie,\n",
    "                                 'Edition': version,\n",
    "                                 'Year of award': year,\n",
    "                                 'Award': award,\n",
    "                                 'Win?': win\n",
    "                                }\n",
    "                                , ignore_index=True)"
   ]
  },
  {
   "cell_type": "markdown",
   "metadata": {},
   "source": [
    "## Cleaning Data"
   ]
  },
  {
   "cell_type": "code",
   "execution_count": 97,
   "metadata": {
    "scrolled": true
   },
   "outputs": [],
   "source": [
    "df = acting_df.copy()\n",
    "df.loc[df.Award == 'actor', 'Award'] = \"LeadingActor\"\n",
    "df.loc[df.Award == 'actress', 'Award'] = \"LeadingActress\"\n",
    "df.loc[df.Award == 'actor in a supporting role', 'Award'] = \"SupportingActor\"\n",
    "df.loc[df.Award == 'actress in a supporting role', 'Award'] = \"SupportingActress\"\n",
    "df.loc[df.Award == 'actor in a leading role', 'Award'] = \"LeadingActor\"\n",
    "df.loc[df.Award == 'actress in a leading role', 'Award'] = \"LeadingActress\"\n",
    "acting_df = df"
   ]
  },
  {
   "cell_type": "markdown",
   "metadata": {},
   "source": [
    "## Exporting CSV"
   ]
  },
  {
   "cell_type": "code",
   "execution_count": 98,
   "metadata": {},
   "outputs": [],
   "source": [
    "acting_df.to_csv(str(rel_path) + r'\\raw_data\\all_acting_nominees.csv')"
   ]
  }
 ],
 "metadata": {
  "kernelspec": {
   "display_name": "Python 3",
   "language": "python",
   "name": "python3"
  },
  "language_info": {
   "codemirror_mode": {
    "name": "ipython",
    "version": 3
   },
   "file_extension": ".py",
   "mimetype": "text/x-python",
   "name": "python",
   "nbconvert_exporter": "python",
   "pygments_lexer": "ipython3",
   "version": "3.7.2"
  }
 },
 "nbformat": 4,
 "nbformat_minor": 2
}
