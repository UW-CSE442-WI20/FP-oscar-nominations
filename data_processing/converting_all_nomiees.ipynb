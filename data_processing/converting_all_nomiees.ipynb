{
 "cells": [
  {
   "cell_type": "markdown",
   "metadata": {},
   "source": [
    "# Title"
   ]
  },
  {
   "cell_type": "markdown",
   "metadata": {},
   "source": [
    "## Importing Packages"
   ]
  },
  {
   "cell_type": "code",
   "execution_count": 21,
   "metadata": {},
   "outputs": [],
   "source": [
    "import pandas as pd\n",
    "import pathlib as path\n",
    "import json"
   ]
  },
  {
   "cell_type": "markdown",
   "metadata": {},
   "source": [
    "## Importing File"
   ]
  },
  {
   "cell_type": "code",
   "execution_count": 22,
   "metadata": {},
   "outputs": [],
   "source": [
    "rel_path = path.Path().absolute()\n",
    "with open(str(rel_path) + r\"\\oscar_acting_nominess_and_winner\\lead_actor_actress_director_cinematography_nomiees.json\") as file:\n",
    "    all_data = json.load(file)"
   ]
  },
  {
   "cell_type": "markdown",
   "metadata": {},
   "source": [
    "## Creating dataframes"
   ]
  },
  {
   "cell_type": "code",
   "execution_count": 23,
   "metadata": {},
   "outputs": [],
   "source": [
    "all_columns = ['Name', 'Movie', 'Edition', 'Year of award', 'Award', 'Win?']\n",
    "all_df = pd.DataFrame(columns = all_columns)"
   ]
  },
  {
   "cell_type": "markdown",
   "metadata": {},
   "source": [
    "## Filling dataframe"
   ]
  },
  {
   "cell_type": "code",
   "execution_count": 24,
   "metadata": {
    "scrolled": true
   },
   "outputs": [],
   "source": [
    "for version in all_data:\n",
    "    version_dict = all_data[version]\n",
    "    year = 0\n",
    "    for key in version_dict.keys():\n",
    "        award = ''\n",
    "        if key == 'year':\n",
    "            year = version_dict[key]\n",
    "        else:\n",
    "            award = key\n",
    "            award_d = version_dict[key]\n",
    "            for name in award_d:\n",
    "                n_d = award_d[name]\n",
    "                win = False\n",
    "                for field in n_d:\n",
    "                    if field == 'isWinner':\n",
    "                        win = n_d[field]\n",
    "                    else:\n",
    "                        for movie in n_d[field]:\n",
    "                            all_df = all_df.append(\n",
    "                                {'Name' : name,\n",
    "                                 'Movie' : movie,\n",
    "                                 'Edition': version,\n",
    "                                 'Year of award': year,\n",
    "                                 'Award': award,\n",
    "                                 'Win?': win\n",
    "                                }\n",
    "                                , ignore_index=True)"
   ]
  },
  {
   "cell_type": "markdown",
   "metadata": {},
   "source": [
    "## Cleaning Data"
   ]
  },
  {
   "cell_type": "code",
   "execution_count": 25,
   "metadata": {
    "scrolled": true
   },
   "outputs": [],
   "source": [
    "df = all_df.copy()\n",
    "df.loc[df.Award == 'actor', 'Award'] = \"LeadingActor\"\n",
    "df.loc[df.Award == 'actress', 'Award'] = \"LeadingActress\"\n",
    "df.loc[df.Award == 'actor in a supporting role', 'Award'] = \"SupportingActor\"\n",
    "df.loc[df.Award == 'actress in a supporting role', 'Award'] = \"SupportingActress\"\n",
    "df.loc[df.Award == 'actor in a leading role', 'Award'] = \"LeadingActor\"\n",
    "df.loc[df.Award == 'actress in a leading role', 'Award'] = \"LeadingActress\"\n",
    "\n",
    "df.loc[df.Award.str.contains('irecting'), 'Award'] = \"Director\"\n",
    "df.loc[df.Award.str.contains('inematography'), 'Award'] = \"Cinematography\"\n",
    "\n",
    "df['Year of award'] = df['Year of award'] + 1\n",
    "all_df = df"
   ]
  },
  {
   "cell_type": "markdown",
   "metadata": {},
   "source": [
    "## Exporting CSV"
   ]
  },
  {
   "cell_type": "code",
   "execution_count": 26,
   "metadata": {},
   "outputs": [],
   "source": [
    "all_df.to_csv(str(rel_path) + r'\\raw_data\\all_nominees.csv')"
   ]
  }
 ],
 "metadata": {
  "kernelspec": {
   "display_name": "Python 3",
   "language": "python",
   "name": "python3"
  },
  "language_info": {
   "codemirror_mode": {
    "name": "ipython",
    "version": 3
   },
   "file_extension": ".py",
   "mimetype": "text/x-python",
   "name": "python",
   "nbconvert_exporter": "python",
   "pygments_lexer": "ipython3",
   "version": "3.7.2"
  }
 },
 "nbformat": 4,
 "nbformat_minor": 2
}
