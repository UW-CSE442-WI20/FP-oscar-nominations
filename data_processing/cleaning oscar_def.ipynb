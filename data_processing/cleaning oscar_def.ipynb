{
 "cells": [
  {
   "cell_type": "code",
   "execution_count": 57,
   "metadata": {},
   "outputs": [],
   "source": [
    "import pandas as pd\n",
    "import pathlib as path"
   ]
  },
  {
   "cell_type": "code",
   "execution_count": 111,
   "metadata": {},
   "outputs": [],
   "source": [
    "rel_path = path.Path().absolute()\n",
    "od = pd.read_csv(str(rel_path) + r\"\\raw_data\\Oscars-demographics-DFE_utf_8.csv\")\n",
    "ids = pd.read_csv(str(rel_path) + r\"\\raw_data\\dfe_movieID.tsv\", sep = '\\t')\n",
    "\n",
    "del ids['Unnamed: 0']\n",
    "del od['_trusted_judgments']\n",
    "del od['_last_judgment_at']"
   ]
  },
  {
   "cell_type": "code",
   "execution_count": 112,
   "metadata": {},
   "outputs": [],
   "source": [
    "ids_drop = ids.drop_duplicates()\n",
    "df = od.merge(ids_drop, on = ['movie', 'year_of_award'])\n",
    "del df['_unit_id']\n",
    "del df['_golden']\n",
    "del df['_unit_state']\n",
    "del df['date_of_birth:confidence']\n",
    "del df['race_ethnicity_gold']\n",
    "del df['religion_gold']\n",
    "del df['sexual_orientation_gold']\n",
    "del df['year_of_award_gold']\n",
    "del df['race_ethnicity:confidence']\n",
    "del df['sexual_orientation:confidence']\n",
    "del df['date_of_birth_gold']\n",
    "del df['birthplace_gold']\n",
    "del df['birthplace:confidence']\n",
    "del df['year_of_award:confidence']\n",
    "df['movie_IMDB_Link'] = df['movieID']"
   ]
  },
  {
   "cell_type": "code",
   "execution_count": 113,
   "metadata": {},
   "outputs": [],
   "source": [
    "# df['imdbID'] = df['biourl'].str.split('/', expand = True)[4]\n",
    "df['movieID'] = df['movieID'].str.split('/', expand = True)[4]"
   ]
  },
  {
   "cell_type": "code",
   "execution_count": 115,
   "metadata": {},
   "outputs": [],
   "source": [
    "df.to_csv(str(rel_path) + r'\\..\\src\\oscar_demos_def.csv')"
   ]
  }
 ],
 "metadata": {
  "kernelspec": {
   "display_name": "Python 3",
   "language": "python",
   "name": "python3"
  },
  "language_info": {
   "codemirror_mode": {
    "name": "ipython",
    "version": 3
   },
   "file_extension": ".py",
   "mimetype": "text/x-python",
   "name": "python",
   "nbconvert_exporter": "python",
   "pygments_lexer": "ipython3",
   "version": "3.7.2"
  }
 },
 "nbformat": 4,
 "nbformat_minor": 2
}
